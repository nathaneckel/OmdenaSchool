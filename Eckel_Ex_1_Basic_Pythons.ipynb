{
  "cells": [
    {
      "cell_type": "markdown",
      "metadata": {
        "id": "view-in-github",
        "colab_type": "text"
      },
      "source": [
        "<a href=\"https://colab.research.google.com/github/nathaneckel/OmdenaSchool/blob/main/Eckel_Ex_1_Basic_Pythons.ipynb\" target=\"_parent\"><img src=\"https://colab.research.google.com/assets/colab-badge.svg\" alt=\"Open In Colab\"/></a>"
      ]
    },
    {
      "cell_type": "markdown",
      "metadata": {
        "id": "Ef4A4K3Gx8D0"
      },
      "source": [
        "![](../docs/banner.png)"
      ]
    },
    {
      "cell_type": "markdown",
      "metadata": {
        "id": "mtNhOJZox8D-"
      },
      "source": [
        "# Python Basics\n",
        "\n"
      ]
    },
    {
      "cell_type": "markdown",
      "metadata": {
        "id": "jOAhJ_Enx8EA"
      },
      "source": [
        "## Exercises"
      ]
    },
    {
      "cell_type": "markdown",
      "metadata": {
        "id": "ZR8sZ5Whx8EB"
      },
      "source": [
        "### 1."
      ]
    },
    {
      "cell_type": "markdown",
      "metadata": {
        "id": "GtLdGAYOx8EC"
      },
      "source": [
        "What is 5 to the power of 5?"
      ]
    },
    {
      "cell_type": "code",
      "execution_count": null,
      "metadata": {
        "id": "RIsj-vhOx8EE",
        "outputId": "173c538f-2e27-42f0-d2de-a5aa3d922ced",
        "colab": {
          "base_uri": "https://localhost:8080/"
        }
      },
      "outputs": [
        {
          "output_type": "stream",
          "name": "stdout",
          "text": [
            "3125\n"
          ]
        }
      ],
      "source": [
        "print(5**5)"
      ]
    },
    {
      "cell_type": "markdown",
      "metadata": {
        "id": "LqbQrP45x8EI"
      },
      "source": [
        "### 2."
      ]
    },
    {
      "cell_type": "markdown",
      "metadata": {
        "id": "a6E1DbG3x8EJ"
      },
      "source": [
        "What is the remainder from dividing 73 by 6?"
      ]
    },
    {
      "cell_type": "code",
      "execution_count": null,
      "metadata": {
        "id": "VjAZxEX6x8EK",
        "outputId": "d9a13fe8-e164-46fb-fd6e-97e5748d0a35",
        "colab": {
          "base_uri": "https://localhost:8080/"
        }
      },
      "outputs": [
        {
          "output_type": "execute_result",
          "data": {
            "text/plain": [
              "1"
            ]
          },
          "metadata": {},
          "execution_count": 1
        }
      ],
      "source": [
        "73%6"
      ]
    },
    {
      "cell_type": "markdown",
      "metadata": {
        "id": "4f4ks2WRx8EL"
      },
      "source": [
        "### 3."
      ]
    },
    {
      "cell_type": "markdown",
      "metadata": {
        "id": "3kSuEetQx8EN"
      },
      "source": [
        "How many times does the whole number 3 go into 123? What is the remainder of dividing 123 by 3?"
      ]
    },
    {
      "cell_type": "code",
      "execution_count": 5,
      "metadata": {
        "id": "iE3kQVcGx8EW",
        "outputId": "1c43da97-e08e-4b65-8eb8-dced93468fc1",
        "colab": {
          "base_uri": "https://localhost:8080/"
        }
      },
      "outputs": [
        {
          "output_type": "execute_result",
          "data": {
            "text/plain": [
              "(41.0, 0)"
            ]
          },
          "metadata": {},
          "execution_count": 5
        }
      ],
      "source": [
        "123/3, 123%3 "
      ]
    },
    {
      "cell_type": "markdown",
      "metadata": {
        "id": "7Cfbx841x8EX"
      },
      "source": [
        "### 4."
      ]
    },
    {
      "cell_type": "markdown",
      "metadata": {
        "id": "DJd5Eerux8EX"
      },
      "source": [
        "Split the following string into a list by splitting on the space character:"
      ]
    },
    {
      "cell_type": "code",
      "execution_count": 2,
      "metadata": {
        "id": "fjvepBTfx8Ej",
        "outputId": "550800d5-5502-4341-b403-ab120017aefc",
        "colab": {
          "base_uri": "https://localhost:8080/"
        }
      },
      "outputs": [
        {
          "output_type": "execute_result",
          "data": {
            "text/plain": [
              "['MDS', 'is', 'going', 'virtual!']"
            ]
          },
          "metadata": {},
          "execution_count": 2
        }
      ],
      "source": [
        "s = \"MDS is going virtual!\"\n",
        "\n",
        "s.split()\n"
      ]
    },
    {
      "cell_type": "markdown",
      "metadata": {
        "id": "WV21hHd_x8Eo"
      },
      "source": [
        "### 5."
      ]
    },
    {
      "cell_type": "markdown",
      "metadata": {
        "id": "snp_cEROx8Ep"
      },
      "source": [
        "Given the following variables:\n",
        "\n",
        "```\n",
        "thing = \"light\"\n",
        "speed = 299792458  # m/s\n",
        "```\n",
        "\n",
        "Use f-strings to print:\n",
        "\n",
        "```\n",
        "The speed of light is 2.997925e+08 m/s.\n",
        "```"
      ]
    },
    {
      "cell_type": "code",
      "execution_count": 16,
      "metadata": {
        "id": "_VRZQ-Rbx8Eq",
        "colab": {
          "base_uri": "https://localhost:8080/",
          "height": 35
        },
        "outputId": "5ac68933-8ece-489c-9d98-60343e99944e"
      },
      "outputs": [
        {
          "output_type": "execute_result",
          "data": {
            "application/vnd.google.colaboratory.intrinsic+json": {
              "type": "string"
            },
            "text/plain": [
              "'The speed of light is 2.99792438e+08 m/s.'"
            ]
          },
          "metadata": {},
          "execution_count": 16
        }
      ],
      "source": [
        "thing = \"light\"\n",
        "speed = 2.99792438\n",
        "suffix = \"e+08 m/s\"\n",
        "\n",
        "lightspeed = f\"The speed of {thing} is {speed:.8f}{suffix}.\"\n",
        "lightspeed\n",
        "\n",
        "# @ Erum I think I cheated on this somehow... what is the better way to do this?"
      ]
    },
    {
      "cell_type": "markdown",
      "metadata": {
        "id": "BuYRjQPXx8Eq"
      },
      "source": [
        "### 6."
      ]
    },
    {
      "cell_type": "markdown",
      "metadata": {
        "id": "Lx4jaCrCx8Er"
      },
      "source": [
        "Given this nested list, use indexing to grab the word \"MDS\":"
      ]
    },
    {
      "cell_type": "code",
      "execution_count": 62,
      "metadata": {
        "id": "uEHK4tLIx8Er",
        "colab": {
          "base_uri": "https://localhost:8080/"
        },
        "outputId": "b68cec46-3f8e-4b2d-a0d0-84b51e5e0483"
      },
      "outputs": [
        {
          "output_type": "execute_result",
          "data": {
            "text/plain": [
              "['MDS']"
            ]
          },
          "metadata": {},
          "execution_count": 62
        }
      ],
      "source": [
        "l = [10, [3, 4], [5, [100, 200, [\"MDS\"]], 23, 11], 1, 7]\n",
        "\n",
        "m=l[2]\n",
        "n=m[1]\n",
        "n[2]\n",
        "# @ Erum did I do this the most straightforward way? I tried the : but missed it obviously LOL"
      ]
    },
    {
      "cell_type": "markdown",
      "metadata": {
        "id": "EqLQa4Rgx8Es"
      },
      "source": [
        "### 7."
      ]
    },
    {
      "cell_type": "markdown",
      "metadata": {
        "id": "J_E-f-cwx8Et"
      },
      "source": [
        "Given this nest dictionary grab the word \"MDS\":"
      ]
    },
    {
      "cell_type": "code",
      "execution_count": 9,
      "metadata": {
        "id": "Jm7ivjPIx8Et",
        "colab": {
          "base_uri": "https://localhost:8080/"
        },
        "outputId": "0feb1844-db12-47b3-fda8-78ff9a71b915"
      },
      "outputs": [
        {
          "output_type": "stream",
          "name": "stdout",
          "text": [
            "[1, 2, 3, {'inner': ['this', 'is', 'inception', {'inner_inner': [1, 2, 3, 'MDS']}]}]\n"
          ]
        }
      ],
      "source": [
        "d = {\n",
        "    \"outer\": [\n",
        "        1,\n",
        "        2,\n",
        "        3,\n",
        "        {\"inner\": [\"this\", \"is\", \"inception\", {\"inner_inner\": [1, 2, 3, \"MDS\"]}]},\n",
        "    ]\n",
        "}\n",
        "\n",
        "# Your answer here.\n",
        "e = d['outer']\n",
        "print(e)"
      ]
    },
    {
      "cell_type": "code",
      "source": [
        "f = e(int('inner')) \n",
        "\n",
        "# I have no idea how to do this based on the basics.ipnyb example file.\n",
        "# I have tried to apply the slicing idea and only cracked the first level\n",
        "# I looked for other videos/resources and found one that says that dictionaries \n",
        "# cannot be sliced - \"Slicing Nested Dictionary is not possible.\n",
        "\""
      ],
      "metadata": {
        "colab": {
          "base_uri": "https://localhost:8080/",
          "height": 168
        },
        "id": "p8YttT0WfQCs",
        "outputId": "f319da3a-14fe-43a4-de96-d9eac2838f6b"
      },
      "execution_count": 11,
      "outputs": [
        {
          "output_type": "error",
          "ename": "ValueError",
          "evalue": "ignored",
          "traceback": [
            "\u001b[0;31m---------------------------------------------------------------------------\u001b[0m",
            "\u001b[0;31mValueError\u001b[0m                                Traceback (most recent call last)",
            "\u001b[0;32m<ipython-input-11-407b0c970500>\u001b[0m in \u001b[0;36m<module>\u001b[0;34m()\u001b[0m\n\u001b[0;32m----> 1\u001b[0;31m \u001b[0mf\u001b[0m\u001b[0;34m=\u001b[0m\u001b[0me\u001b[0m\u001b[0;34m(\u001b[0m\u001b[0mint\u001b[0m\u001b[0;34m(\u001b[0m\u001b[0;34m'inner'\u001b[0m\u001b[0;34m)\u001b[0m\u001b[0;34m)\u001b[0m\u001b[0;34m\u001b[0m\u001b[0;34m\u001b[0m\u001b[0m\n\u001b[0m",
            "\u001b[0;31mValueError\u001b[0m: invalid literal for int() with base 10: 'inner'"
          ]
        }
      ]
    },
    {
      "cell_type": "markdown",
      "metadata": {
        "id": "QE9I6B56x8Eu"
      },
      "source": [
        "### 8."
      ]
    },
    {
      "cell_type": "markdown",
      "metadata": {
        "id": "5d6YGmnQx8Eu"
      },
      "source": [
        "Why does the following cell return an error?"
      ]
    },
    {
      "cell_type": "code",
      "execution_count": 17,
      "metadata": {
        "tags": [
          "raises-exception"
        ],
        "id": "DaF76JW7x8Eu",
        "outputId": "d2886786-f798-445a-be74-f8bd579d5bf7",
        "colab": {
          "base_uri": "https://localhost:8080/"
        }
      },
      "outputs": [
        {
          "output_type": "execute_result",
          "data": {
            "text/plain": [
              "3"
            ]
          },
          "metadata": {},
          "execution_count": 17
        }
      ],
      "source": [
        "t = (1, 2, 3, 4, 5)\n",
        "#t[-1] = 6\n",
        "\n",
        "#Because tuples are immutable / tuples are contained within the set.\n"
      ]
    },
    {
      "cell_type": "markdown",
      "metadata": {
        "id": "qErbf62vx8Ev"
      },
      "source": [
        "### 9."
      ]
    },
    {
      "cell_type": "markdown",
      "metadata": {
        "id": "d7crlnOrx8Ew"
      },
      "source": [
        "Use string methods to extract the website domain from an email, e.g., from the string `\"tomas.beuzen@fakemail.com\"`, you should extract `\"fakemail\"`."
      ]
    },
    {
      "cell_type": "code",
      "execution_count": 28,
      "metadata": {
        "id": "FMnNj93Rx8E0",
        "colab": {
          "base_uri": "https://localhost:8080/"
        },
        "outputId": "95e62318-176e-4720-8c3e-066eacacafee"
      },
      "outputs": [
        {
          "output_type": "stream",
          "name": "stdout",
          "text": [
            "fakemail.com\n"
          ]
        }
      ],
      "source": [
        "email = \"tomas.beuzen@fakemail.com\"\n",
        "\n",
        "# Your answer here.\n",
        "\n",
        "domain = email.split('@')[1]\n",
        "print(domain)"
      ]
    },
    {
      "cell_type": "markdown",
      "metadata": {
        "id": "4VmwK_rIx8E0"
      },
      "source": [
        "### 10."
      ]
    },
    {
      "cell_type": "markdown",
      "metadata": {
        "id": "g4lUbMj0x8E0"
      },
      "source": [
        "Given the variable `language` which contains a string, use `if/elif/else` to write a program that:\n",
        "- return \"I love snakes!\" if `language` is `\"python\"` (any kind of capitalization)\n",
        "- return \"Are you a pirate?\" if `language` is `\"R\"` (any kind of capitalization)\n",
        "- else return \"What is `language`?\" if `language` is anything else."
      ]
    },
    {
      "cell_type": "code",
      "execution_count": 31,
      "metadata": {
        "id": "rIS_wEgKx8E1",
        "colab": {
          "base_uri": "https://localhost:8080/",
          "height": 132
        },
        "outputId": "f3ca9bb6-cbb3-45a7-c271-1c9d340471b2"
      },
      "outputs": [
        {
          "output_type": "error",
          "ename": "SyntaxError",
          "evalue": "ignored",
          "traceback": [
            "\u001b[0;36m  File \u001b[0;32m\"<ipython-input-31-b1a546d361eb>\"\u001b[0;36m, line \u001b[0;32m3\u001b[0m\n\u001b[0;31m    elif\u001b[0m\n\u001b[0m       ^\u001b[0m\n\u001b[0;31mSyntaxError\u001b[0m\u001b[0;31m:\u001b[0m invalid syntax\n"
          ]
        }
      ],
      "source": [
        "language = \"python\"\n",
        "print(\"I love snakes\")\n",
        "elif \n",
        "print(\"Are You A Pirate?\")\n",
        "else \n",
        "print(\"What is f[]\")\n",
        "print(language)"
      ]
    },
    {
      "cell_type": "markdown",
      "metadata": {
        "id": "ssBSYWBDx8E1"
      },
      "source": [
        "<hr>\n",
        "<hr>\n",
        "<hr>"
      ]
    }
  ],
  "metadata": {
    "kernelspec": {
      "display_name": "Python 3 (ipykernel)",
      "language": "python",
      "name": "python3"
    },
    "language_info": {
      "codemirror_mode": {
        "name": "ipython",
        "version": 3
      },
      "file_extension": ".py",
      "mimetype": "text/x-python",
      "name": "python",
      "nbconvert_exporter": "python",
      "pygments_lexer": "ipython3",
      "version": "3.9.7"
    },
    "colab": {
      "name": "Eckel_Ex-1 Basic Pythons.ipynb",
      "provenance": [],
      "collapsed_sections": [],
      "include_colab_link": true
    }
  },
  "nbformat": 4,
  "nbformat_minor": 0
}